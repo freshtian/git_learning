{
 "cells": [
  {
   "cell_type": "code",
   "execution_count": 1,
   "id": "initial_id",
   "metadata": {
    "collapsed": true,
    "ExecuteTime": {
     "end_time": "2024-09-20T06:47:21.377524Z",
     "start_time": "2024-09-20T06:47:20.805299Z"
    }
   },
   "outputs": [],
   "source": [
    "import matplotlib.pyplot as plt\n",
    "import numpy as np\n",
    "# from queue import PriorityQueue, deque\n",
    "\n",
    "class PathFinder:\n",
    "    def __init__(self, grid):\n",
    "        self.grid = grid\n",
    "        self.rows = len(grid)\n",
    "        self.cols = len(grid[0])\n",
    "    ans=[]\n",
    "    def depthFirstSearch(self, start, goal):\n",
    "        print(start)\n",
    "        if start==goal:\n",
    "          return self.ans\n",
    "        directions = [(1, 0), (0, 1), (-1, 0), (0, -1)]\n",
    "        for i in range(4):\n",
    "            new_row = start[0] + directions[i][0]\n",
    "            new_col = start[1] + directions[i][1]\n",
    "            if  0<=new_row<self.rows and 0<=new_col<self.cols  and self.grid[new_row][new_col]!=-1:\n",
    "                self.ans.append((new_row, new_col))\n",
    "                # print(self.ans)\n",
    "                self.depthFirstSearch((new_row, new_col), goal)\n",
    "            else:\n",
    "                break\n",
    "                \n",
    "                \n",
    "    def breadthFirstSearch(self, start, goal):\n",
    "        ### your code here ###\n",
    "        pass\n",
    "\n",
    "    def uniformCostSearch(self, start, goal):\n",
    "        ### your code here ###\n",
    "        pass\n",
    "                            \n",
    "\n",
    "    def visualize_path(self, path):\n",
    "        grid = np.array(self.grid) \n",
    "\n",
    "        plt.figure(figsize=(10, 10))\n",
    "        plt.imshow(grid, cmap=\"Greys\", origin=\"upper\") \n",
    "\n",
    "        if path is not None: \n",
    "            if path is not None:\n",
    "                path_x = []\n",
    "                path_y = []\n",
    "\n",
    "                for point in path:\n",
    "                    path_x.append(point[0]) \n",
    "                    path_y.append(point[1])\n",
    "                    \n",
    "            plt.plot(path_x, path_y, marker='o', color='red', linewidth=2, markersize=6, label='Path')  \n",
    "\n",
    "        plt.text(path[0][1], path[0][0], 'Start', color='green', fontsize=12, ha='center', va='center')\n",
    "        plt.text(path[-1][1], path[-1][0], 'Goal', color='blue', fontsize=12, ha='center', va='center')\n",
    "\n",
    "        plt.legend()\n",
    "        plt.xticks(np.arange(grid.shape[1])) \n",
    "        plt.yticks(np.arange(grid.shape[0])) \n",
    "        plt.grid(True) \n",
    "        plt.title(\"Path Visualization\")\n",
    "\n",
    "        plt.show()\n"
   ]
  },
  {
   "cell_type": "code",
   "outputs": [],
   "source": [
    "\n",
    "grid = [\n",
    "    [1, 2, 1, -1, 3, 2, 1],\n",
    "    [2, -1, 5, -1, 2, 3, 1],\n",
    "    [1, 1, 1, 1, 5, -1, 1],\n",
    "    [1, -1, -1, -1, 1, 2, 1],\n",
    "    [1, 1, 3, 1, 1, 5, 1],\n",
    "    [1, -1, 1, 1, 2, 1, 1],\n",
    "    [1, 1, 1, -1, 1, 1, 1]\n",
    "]\n",
    "\n",
    "# build class\n",
    "pathfinder = PathFinder(grid)\n",
    "\n",
    "# start and goal\n",
    "start=(0, 0)\n",
    "goal=(6, 6)\n",
    "\n",
    "# find path\n",
    "dfs_path = pathfinder.depthFirstSearch(start, goal)\n",
    "# bfs_path = pathfinder.breadthFirstSearch(start,goal)\n",
    "# ucs_path = pathfinder.uniformCostSearch(start, goal)\n",
    "\n",
    "# visualization\n",
    "pathfinder.visualize_path(dfs_path)\n",
    "# pathfinder.visualize_path(bfs_path)\n",
    "# pathfinder.visualize_path(ucs_path)\n",
    "    \n"
   ],
   "metadata": {
    "collapsed": false,
    "is_executing": true,
    "ExecuteTime": {
     "start_time": "2024-09-20T06:47:21.970830Z"
    }
   },
   "id": "92b3eaf9ae01d57a",
   "execution_count": null
  },
  {
   "cell_type": "code",
   "outputs": [],
   "source": [],
   "metadata": {
    "collapsed": false
   },
   "id": "5b9337bb8cc35d46"
  }
 ],
 "metadata": {
  "kernelspec": {
   "display_name": "Python 3",
   "language": "python",
   "name": "python3"
  },
  "language_info": {
   "codemirror_mode": {
    "name": "ipython",
    "version": 2
   },
   "file_extension": ".py",
   "mimetype": "text/x-python",
   "name": "python",
   "nbconvert_exporter": "python",
   "pygments_lexer": "ipython2",
   "version": "2.7.6"
  }
 },
 "nbformat": 4,
 "nbformat_minor": 5
}
