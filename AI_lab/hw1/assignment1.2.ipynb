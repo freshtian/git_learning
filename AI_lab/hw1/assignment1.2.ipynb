{
 "cells": [
  {
   "cell_type": "markdown",
   "metadata": {},
   "source": [
    "## Assignment 1.2 A* Graph Search\n",
    "\n",
    "### 📌 Important Information\n",
    "- **Deadline**: October 11, 2024, by 23:59 (`Beijing Time`)\n",
    "   \n",
    "- **Submission File**:\n",
    "    - You are required to submit both 1.1 (Tree Search) and 1.2 (A* Graph Search) together. \n",
    "    - You should additionally export your Jupyter Notebook (.ipynb file) with your answer as a **PDF**.\n",
    "\n",
    "- **Submission Format**: \n",
    "    - Submit your answer via sustech blackboard system.\n",
    "    - Place all the files (PDF and .ipynb) in a single folder, name it using your student ID_name (e.g., 12431112_WangShuoyuan), and compress it into a zip file. `The file structure should be`:\n",
    "\n",
    "        ```\n",
    "        12431112_WangShuoyuan/\n",
    "        |–– assignment1.1.pdf\n",
    "        |–– assignment1.1.ipynb\n",
    "        |–– assignment1.2.pdf\n",
    "        |–– assignment1.2.ipynb\n",
    "        ```"
   ]
  },
  {
   "cell_type": "markdown",
   "metadata": {},
   "source": [
    "### ℹ️ Introduction\n",
    "\n",
    "In the assignment 1.2, you need to implement the A* **Graph** Search algorithm.  \n",
    "\n",
    "Your implementation will be applied to a **grid-based maze**, where each cell in the grid can represent either a blocked cell, or a weighted cost. Your task is to `find a path from a given start point to a goal point`. \n",
    "\n",
    "For each A* search algorithm, you need to explore two heuristic functions including:\n",
    "- Manhattan Distance (default)\n",
    "- Euclidean Distance"
   ]
  },
  {
   "cell_type": "markdown",
   "metadata": {},
   "source": [
    "### ❓Maze Setup\n",
    "The maze is represented as a 2D grid (list of lists). Each cell in the grid contains a number that determines its type:\n",
    "  - **-1**: Blocked space (you cannot move through this cell).\n",
    "  - Any **positive number greater than 0**: A weighted space, where the number represents the cost to move into this cell (e.g., `2` means it costs 2 units to move here).\n",
    "  - **Objective**: Generally, we take the top-left corner (0,0) as the `start` and find a path to the bottom-right corner.\n",
    "  \n",
    "Movement is allowed in **four directions**: up, down, left, and right (no diagonal movement)."
   ]
  },
  {
   "cell_type": "markdown",
   "metadata": {},
   "source": [
    "### ⭐ Hint\n",
    "\n",
    "#### Expected Input:\n",
    "- `start` (tuple): The starting coordinates (row, col).\n",
    "- `goal` (tuple): The goal coordinates (row, col).\n",
    "- `heuristic` (str): heuristic function name.\n",
    "\n",
    "#### Expected Output:\n",
    "- A list of tuples representing the path from the start to the goal, or `None` if no path is found. \n",
    "For example: `[(0, 0), (0, 1), (0, 2), (0, 3), (0, 4), (0, 5), (0, 6)]`\n",
    "\n",
    "#### Tie breaking rule:\n",
    "Break the tie based on the value of x, prioritizing nodes with smaller x values. If multiple nodes have the same x value, break the tie by selecting nodes with smaller y values first.\n"
   ]
  },
  {
   "cell_type": "markdown",
   "metadata": {},
   "source": [
    "------------------------------------------------------------------------"
   ]
  },
  {
   "cell_type": "code",
   "execution_count": 9,
   "metadata": {},
   "outputs": [],
   "source": [
    "import heapq\n",
    "import math\n",
    "\n",
    "import matplotlib.pyplot as plt\n",
    "import numpy as np\n",
    "\n",
    "\n",
    "class PathFinder:\n",
    "    def __init__(self, grid):\n",
    "        self.grid = grid\n",
    "        self.rows = len(grid)\n",
    "        self.cols = len(grid[0])\n",
    "\n",
    "    def heuristic(self, node, goal, method=\"manhattan\"):\n",
    "\n",
    "        # default\n",
    "        x1, y1 = node\n",
    "        x2, y2 = goal\n",
    "\n",
    "        if method == \"manhattan\":\n",
    "            return abs(x2 - x1) + abs(y2 - y1)\n",
    "        if method == \"Euclidean\":\n",
    "            return math.sqrt((x1 - x2) ** 2 + (y1 - y2) ** 2)\n",
    "        else:\n",
    "            return 0\n",
    "\n",
    "    def aStarGraphSearch(self, start, goal, heuristic_method):\n",
    "        queue = []\n",
    "        heapq.heappush(queue, (0, start))\n",
    "\n",
    "        self.visited = set()\n",
    "        costs = {start: 0}\n",
    "        parent_map = {start: None}\n",
    "\n",
    "        while queue:\n",
    "            current_cost, current = heapq.heappop(queue)\n",
    "\n",
    "            if current == goal:\n",
    "                path = []\n",
    "                while current is not None:\n",
    "                    path.append(current)\n",
    "                    current = parent_map[current]\n",
    "                path.reverse()\n",
    "                return path\n",
    "\n",
    "            self.visited.add(current)\n",
    "\n",
    "            directions = [(-1, 0), (0, -1), (1, 0), (0, 1)]\n",
    "\n",
    "            for direction in directions:\n",
    "                new_row = current[0] + direction[0]\n",
    "                new_col = current[1] + direction[1]\n",
    "                new_position = (new_row, new_col)\n",
    "\n",
    "                if (\n",
    "                    0 <= new_row < self.rows\n",
    "                    and 0 <= new_col < self.cols\n",
    "                    and new_position not in self.visited\n",
    "                    and self.grid[new_row][new_col] != -1\n",
    "                ):  # 确保不是障碍物\n",
    "\n",
    "                    new_cost = (\n",
    "                        current_cost\n",
    "                        + self.grid[new_row][new_col]\n",
    "                        + self.heuristic(new_position, goal, heuristic_method)\n",
    "                    )\n",
    "\n",
    "                    if new_position not in costs or new_cost < costs[new_position]:\n",
    "                        costs[new_position] = new_cost  # 更新成本\n",
    "                        parent_map[new_position] = current  # 设置父节点\n",
    "                        heapq.heappush(queue, (new_cost, new_position))  # 入队\n",
    "        pass\n",
    "\n",
    "    def visualize_path(self, path):\n",
    "        grid = np.array(self.grid)\n",
    "\n",
    "        plt.figure(figsize=(10, 10))\n",
    "        plt.imshow(grid, cmap=\"Greys\", origin=\"upper\")\n",
    "\n",
    "        if path is not None:\n",
    "            path_x = []\n",
    "            path_y = []\n",
    "\n",
    "            for point in path:\n",
    "                path_x.append(point[0])\n",
    "                path_y.append(point[1])\n",
    "\n",
    "            plt.plot(\n",
    "                path_y,\n",
    "                path_x,\n",
    "                marker=\"o\",\n",
    "                color=\"red\",\n",
    "                linewidth=2,\n",
    "                markersize=6,\n",
    "                label=\"Path\",\n",
    "            )\n",
    "\n",
    "            plt.text(\n",
    "                path[0][0],\n",
    "                path[0][1],\n",
    "                \"Start\",\n",
    "                color=\"green\",\n",
    "                fontsize=12,\n",
    "                ha=\"center\",\n",
    "                va=\"center\",\n",
    "            )\n",
    "            plt.text(\n",
    "                path[-1][0],\n",
    "                path[-1][1],\n",
    "                \"Goal\",\n",
    "                color=\"blue\",\n",
    "                fontsize=12,\n",
    "                ha=\"center\",\n",
    "                va=\"center\",\n",
    "            )\n",
    "\n",
    "            plt.legend()\n",
    "            plt.xticks(np.arange(grid.shape[1]))\n",
    "            plt.yticks(np.arange(grid.shape[0]))\n",
    "            plt.grid(True)\n",
    "            plt.title(\"Path Visualization\")\n",
    "\n",
    "            plt.show()"
   ]
  },
  {
   "cell_type": "markdown",
   "metadata": {},
   "source": [
    "## Test\n",
    "You can use code below to test your implementation."
   ]
  },
  {
   "cell_type": "code",
   "execution_count": 11,
   "metadata": {},
   "outputs": [
    {
     "name": "stdout",
     "output_type": "stream",
     "text": [
      "[(0, 0), (1, 0), (2, 0), (3, 0), (4, 0), (4, 1), (4, 2), (4, 3), (4, 4), (5, 4), (5, 5), (5, 6), (6, 6)]\n"
     ]
    },
    {
     "data": {
      "image/png": "[encoded data removed]",
      "text/plain": [
       "<Figure size 1000x1000 with 1 Axes>"
      ]
     },
     "metadata": {},
     "output_type": "display_data"
    },
    {
     "data": {
      "image/png": "[encoded data removed]",
      "text/plain": [
       "<Figure size 1000x1000 with 1 Axes>"
      ]
     },
     "metadata": {},
     "output_type": "display_data"
    }
   ],
   "source": [
    "grid = [\n",
    "    [1, 2, 1, -1, 3, 2, 1],\n",
    "    [2, -1, 5, -1, 2, 3, 1],\n",
    "    [1, 1, 1, 1, 5, -1, 1],\n",
    "    [1, -1, -1, -1, 1, 2, 1],\n",
    "    [1, 1, 3, 1, 1, 5, 1],\n",
    "    [1, -1, 1, 1, 2, 1, 1],\n",
    "    [1, 1, 1, -1, 1, 1, 1],\n",
    "]\n",
    "\n",
    "# build class\n",
    "pathfinder = PathFinder(grid)\n",
    "\n",
    "# start and goal\n",
    "start = (0, 0)\n",
    "goal = (6, 6)\n",
    "\n",
    "# default heuristics\n",
    "heuristic = \"euclidean\"\n",
    "heuristic2 = \"manhattan\"\n",
    "# find path\n",
    "graph_path = pathfinder.aStarGraphSearch(start, goal, heuristic)\n",
    "graph_path2 = pathfinder.aStarGraphSearch(start, goal, heuristic2)\n",
    "print(graph_path)\n",
    "\n",
    "# visualization\n",
    "pathfinder.visualize_path(graph_path)\n",
    "pathfinder.visualize_path(graph_path2)"
   ]
  },
  {
   "cell_type": "markdown",
   "metadata": {},
   "source": [
    "## Results Discussion \n",
    "\n",
    "Are there any difference in the states expanded when using the given two heuristic functions? \n",
    "\n",
    "Please discuss how about using the actual cost as a heuristic. Would it be admissible or consistent? Would we save on nodes expanded? And what's wrong with it? \n",
    "\n",
    "\n",
    "(Write your answer below)\n"
   ]
  },
  {
   "cell_type": "markdown",
   "metadata": {},
   "source": [
    "   曼哈顿距离,适用于只能在水平和垂直方向上移动的场景（如网格环境）。通常会导致更快的收敛，因为它引导搜索沿着网格的路径，更有效地找到目的地。 对于网格状况，状态扩展相对较少。\n",
    "   欧几里得距离：适用于在任意方向上都可以移动的场景（如开放空间）。能够更准确地反映到目标的直线距离，尤其在允许对角线移动时，可能会探索更优的路径。在某些情况下，扩展的状态数可能会比曼哈顿距离更多，特别是在路径复杂或狭窄的环境中。\n",
    "   所以这两种启发式在适用方面和扩展数量有不少不同。\n",
    "   # 使用实际成本作为启发式函数\n",
    "**可接受性（Admissibility）**：\n",
    "如果将实际成本从起始节点到当前节点作为启发式函数，它并没有提供从当前节点到目标的估计。因此，它不能被视为启发式函数，因为它不符合启发式的定义，即必须预估从当前状态到目标的剩余成本。实际成本是历史成本，仅反映已走的路径，不遵循可接受性的要求。\n",
    "\n",
    "**一致性（Consistency）**：\n",
    "一致性要求，从节点 n 到目标的估计成本不应超过从 n 到 n' 的实际成本加上从 n' 到目标的估计成本。使用实际成本无法提供这一前瞻性的估计，因此也不满足一致性条件。\n",
    "\n",
    "**节省状态扩展的可能性**：\n",
    "使用实际成本作为启发式函数不会节省扩展的节点数，反而可能导致更多的节点被扩展：因为实际成本并不提供通往目标的明确方向和指导，导致搜索过程更为冗长且无序。结果可能会类似于均匀成本搜索，无法有效利用路径信息，降低了搜索效率。"
   ]
  },
  {
   "cell_type": "code",
   "execution_count": null,
   "metadata": {},
   "outputs": [],
   "source": []
  }
 ],
 "metadata": {
  "kernelspec": {
   "display_name": "Python 3 (ipykernel)",
   "language": "python",
   "name": "python3"
  },
  "language_info": {
   "codemirror_mode": {
    "name": "ipython",
    "version": 3
   },
   "file_extension": ".py",
   "mimetype": "text/x-python",
   "name": "python",
   "nbconvert_exporter": "python",
   "pygments_lexer": "ipython3",
   "version": "3.10.12"
  }
 },
 "nbformat": 4,
 "nbformat_minor": 4
}
