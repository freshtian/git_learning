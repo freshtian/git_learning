{
 "cells": [
  {
   "cell_type": "markdown",
   "source": [
    "ℹ️ Introduction\n",
    "In the assignment 1.2, you need to implement the A* Graph Search algorithm.\n",
    "\n",
    "Your implementation will be applied to a grid-based maze, where each cell in the grid can represent either a blocked cell, or a weighted cost. Your task is to find a path from a given start point to a goal point.\n",
    "\n",
    "For each A* search algorithm, you need to explore two heuristic functions including:\n",
    "\n",
    "Manhattan Distance (default)\n",
    "Euclidean Distance\n",
    "❓Maze Setup\n",
    "The maze is represented as a 2D grid (list of lists). Each cell in the grid contains a number that determines its type:\n",
    "\n",
    "-1: Blocked space (you cannot move through this cell).\n",
    "Any positive number greater than 0: A weighted space, where the number represents the cost to move into this cell (e.g., 2 means it costs 2 units to move here).\n",
    "Objective: Generally, we take the top-left corner (0,0) as the start and find a path to the bottom-right corner.\n",
    "Movement is allowed in four directions: up, down, left, and right (no diagonal movement).\n",
    "\n",
    "⭐ Hint\n",
    "Expected Input:\n",
    "start (tuple): The starting coordinates (row, col).\n",
    "goal (tuple): The goal coordinates (row, col).\n",
    "heuristic (str): heuristic function name.\n",
    "Expected Output:\n",
    "A list of tuples representing the path from the start to the goal, or None if no path is found. For example: [(0, 0), (0, 1), (0, 2), (0, 3), (0, 4), (0, 5), (0, 6)]\n",
    "Tie breaking rule:\n",
    "Break the tie based on the value of x, prioritizing nodes with smaller x values. If multiple nodes have the same x value, break the tie by selecting nodes with smaller y values first."
   ],
   "metadata": {
    "collapsed": false
   },
   "id": "fe28dd35bc9fddc1"
  }
 ],
 "metadata": {
  "kernelspec": {
   "display_name": "Python 3",
   "language": "python",
   "name": "python3"
  },
  "language_info": {
   "codemirror_mode": {
    "name": "ipython",
    "version": 2
   },
   "file_extension": ".py",
   "mimetype": "text/x-python",
   "name": "python",
   "nbconvert_exporter": "python",
   "pygments_lexer": "ipython2",
   "version": "2.7.6"
  }
 },
 "nbformat": 4,
 "nbformat_minor": 5
}
