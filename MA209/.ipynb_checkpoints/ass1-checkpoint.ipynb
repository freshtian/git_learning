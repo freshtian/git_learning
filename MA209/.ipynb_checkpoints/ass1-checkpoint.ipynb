{
 "cells": [
  {
   "cell_type": "markdown",
   "id": "60e75c27000d7c73",
   "metadata": {
    "collapsed": false,
    "jupyter": {
     "outputs_hidden": false
    }
   },
   "source": [
    "Suppose an appliance store conducts a 5-month experiment to determine the effect of advertising on sales revenue. The results are shown below.\n",
    "Advertising Expenditure $x$ (hundreds of dollars) 1 2 3 4 5\n",
    "Sales Revenue $y$ (thousands of dollars) 1 1 2 2 4"
   ]
  },
  {
   "cell_type": "markdown",
   "id": "cd1f533b2ac7ebb3",
   "metadata": {
    "collapsed": false,
    "jupyter": {
     "outputs_hidden": false
    }
   },
   "source": [
    "(a) Draw a scatterplot of the data and comment the relationship between y and x."
   ]
  },
  {
   "cell_type": "code",
   "execution_count": 30,
   "id": "b92521f52a9bd37a",
   "metadata": {
    "ExecuteTime": {
     "end_time": "2024-09-23T02:42:46.940749Z",
     "start_time": "2024-09-23T02:42:46.924751Z"
    },
    "collapsed": false,
    "jupyter": {
     "outputs_hidden": false
    }
   },
   "outputs": [],
   "source": [
    "import matplotlib.pyplot as plt"
   ]
  },
  {
   "cell_type": "code",
   "execution_count": 31,
   "id": "bd7763d33070162",
   "metadata": {
    "ExecuteTime": {
     "end_time": "2024-09-23T02:42:47.111782Z",
     "start_time": "2024-09-23T02:42:46.984267Z"
    },
    "collapsed": false,
    "jupyter": {
     "outputs_hidden": false
    }
   },
   "outputs": [
    {
     "data": {
      "image/png": "[encoded data removed]",
      "text/plain": [
       "<Figure size 640x480 with 1 Axes>"
      ]
     },
     "metadata": {},
     "output_type": "display_data"
    }
   ],
   "source": [
    "x=[1,2,3,4,5]\n",
    "y=[1,1,2,2,4]\n",
    "plt.scatter(x,y)\n",
    "plt.xlabel('Advertising Expenditure (hundreds of dollars)')\n",
    "plt.ylabel('Sales Revenue (thousands of dollars)')\n",
    "plt.title('Advertising Effect on Sales Revenue')\n",
    "plt.show() "
   ]
  },
  {
   "cell_type": "markdown",
   "id": "28f7f722aa093cd5",
   "metadata": {
    "collapsed": false,
    "jupyter": {
     "outputs_hidden": false
    }
   },
   "source": [
    "as  we can see from the scatter plot, there is a positive linear relationship between advertising expenditure and sales revenue."
   ]
  },
  {
   "cell_type": "markdown",
   "id": "db7b494d025bb045",
   "metadata": {
    "collapsed": false,
    "jupyter": {
     "outputs_hidden": false
    }
   },
   "source": [
    "(b) What is your linear regression model? State the necessary assumptions.\n"
   ]
  },
  {
   "cell_type": "markdown",
   "id": "1bcc90bc61e8db88",
   "metadata": {
    "collapsed": false,
    "jupyter": {
     "outputs_hidden": false
    }
   },
   "source": [
    "The linear regression model is:\n",
    "\n",
    "$y_{i} = \\beta_0 + \\beta_1 x_{i} + \\epsilon_{i}$\n",
    "\n",
    "where $\\beta_0$ is the intercept and $\\beta_1$ is the slope.\n",
    "\n",
    "The necessary assumptions for linear regression are:\n",
    "\n",
    "1. $\\epsilon_i \\sim \\mathcal{N}(\\mu, \\sigma^2)$\n",
    "2. The errors are independent of each other.\n"
   ]
  },
  {
   "cell_type": "markdown",
   "id": "e3f6e9bfbda8e2e1",
   "metadata": {
    "collapsed": false,
    "jupyter": {
     "outputs_hidden": false
    }
   },
   "source": [
    "(c)  Find the least squares line from the data and plot it on your scatterplot.\n"
   ]
  },
  {
   "cell_type": "markdown",
   "id": "c2ae40aa07edafff",
   "metadata": {
    "collapsed": false,
    "jupyter": {
     "outputs_hidden": false
    }
   },
   "source": [
    "we can calculate the parameters using the following formulas:\n",
    "$\\beta_1 = \\frac{n \\sum (x_i y_i) - \\sum x_i \\sum y_i}{n \\sum (x_i^2) - (\\sum x_i)^2}$\n",
    "$\\beta_0 = \\bar{y} - \\beta_1 \\bar{x}$"
   ]
  },
  {
   "cell_type": "code",
   "execution_count": 32,
   "id": "604f33b415d6b19a",
   "metadata": {
    "ExecuteTime": {
     "end_time": "2024-09-23T02:42:47.127783Z",
     "start_time": "2024-09-23T02:42:47.113784Z"
    },
    "collapsed": false,
    "jupyter": {
     "outputs_hidden": false
    }
   },
   "outputs": [],
   "source": [
    "from scipy.stats import linregress\n",
    "import numpy as np"
   ]
  },
  {
   "cell_type": "code",
   "execution_count": 33,
   "id": "525237bf3f848f77",
   "metadata": {
    "ExecuteTime": {
     "end_time": "2024-09-23T02:42:47.143782Z",
     "start_time": "2024-09-23T02:42:47.129788Z"
    },
    "collapsed": false,
    "jupyter": {
     "outputs_hidden": false
    }
   },
   "outputs": [],
   "source": [
    "def sum_of_array(x):\n",
    "    ans = 0\n",
    "    for i in x:\n",
    "        ans += i\n",
    "    return ans"
   ]
  },
  {
   "cell_type": "code",
   "execution_count": 34,
   "id": "62d06269b01957e8",
   "metadata": {
    "ExecuteTime": {
     "end_time": "2024-09-23T02:42:47.159783Z",
     "start_time": "2024-09-23T02:42:47.151784Z"
    },
    "collapsed": false,
    "jupyter": {
     "outputs_hidden": false
    }
   },
   "outputs": [],
   "source": [
    "def sum_of_squares(x):\n",
    "    ans = 0\n",
    "    for i in x:\n",
    "        ans += i**2\n",
    "    return ans"
   ]
  },
  {
   "cell_type": "code",
   "execution_count": 35,
   "id": "1eb8e4722a4c7f41",
   "metadata": {
    "ExecuteTime": {
     "end_time": "2024-09-23T02:42:47.317822Z",
     "start_time": "2024-09-23T02:42:47.304819Z"
    },
    "collapsed": false,
    "jupyter": {
     "outputs_hidden": false
    }
   },
   "outputs": [],
   "source": [
    "def sum_of_xy( x , y):\n",
    "    ans = 0\n",
    "    for i in range(len(x)):\n",
    "        ans += x[i] * y[i]\n",
    "    return ans"
   ]
  },
  {
   "cell_type": "code",
   "execution_count": 36,
   "id": "6601d95513ba1cb3",
   "metadata": {
    "ExecuteTime": {
     "end_time": "2024-09-23T02:42:47.349817Z",
     "start_time": "2024-09-23T02:42:47.342817Z"
    },
    "collapsed": false,
    "jupyter": {
     "outputs_hidden": false
    }
   },
   "outputs": [],
   "source": [
    "Sxy=(len(x) * sum_of_xy(x, y) - sum_of_array(x) * sum_of_array(y))\n",
    "Sxx=(len(x) * sum_of_squares(x) - sum_of_array(x)**2)\n",
    "def cal_beta1():\n",
    "    ans=  Sxy/ Sxx\n",
    "    return ans\n"
   ]
  },
  {
   "cell_type": "code",
   "execution_count": 37,
   "id": "47a5289161cda0f3",
   "metadata": {
    "ExecuteTime": {
     "end_time": "2024-09-23T02:42:47.396334Z",
     "start_time": "2024-09-23T02:42:47.386336Z"
    },
    "collapsed": false,
    "jupyter": {
     "outputs_hidden": false
    }
   },
   "outputs": [],
   "source": [
    "def cal_beta0(x, y):\n",
    "    ans = sum_of_array(y) / len(x) - cal_beta1() * sum_of_array(x) / len(x)      \n",
    "    # print(f\"beta0 = { ans}\")\n",
    "    return ans"
   ]
  },
  {
   "cell_type": "code",
   "execution_count": 38,
   "id": "fededceb2255fddb",
   "metadata": {
    "ExecuteTime": {
     "end_time": "2024-09-23T02:42:47.569856Z",
     "start_time": "2024-09-23T02:42:47.398336Z"
    },
    "collapsed": false,
    "jupyter": {
     "outputs_hidden": false
    }
   },
   "outputs": [
    {
     "name": "stdout",
     "output_type": "stream",
     "text": [
      "slope: 0.7\n",
      "intercept: -0.10000000000000009\n"
     ]
    },
    {
     "data": {
      "image/png": "[encoded data removed]",
      "text/plain": [
       "<Figure size 640x480 with 1 Axes>"
      ]
     },
     "metadata": {},
     "output_type": "display_data"
    }
   ],
   "source": [
    "slope = cal_beta1()\n",
    "intercept = cal_beta0(x, y)\n",
    "print('slope:', slope)\n",
    "print('intercept:', intercept)\n",
    "plt.scatter(x, y, color='blue', label='Data points')\n",
    "regression_line = slope * np.array(x) + intercept\n",
    "plt.plot(x, regression_line, color='red', label='Least Squares Line')\n",
    "plt.xlabel('x')\n",
    "plt.ylabel('y')\n",
    "plt.title('Scatterplot with Least Squares Line')\n",
    "plt.legend()\n",
    "plt.show()"
   ]
  },
  {
   "cell_type": "markdown",
   "id": "3b52429c4681d21c",
   "metadata": {
    "collapsed": false,
    "jupyter": {
     "outputs_hidden": false
    }
   },
   "source": [
    "(d) Test the hypothesis that the Advertising Expenditure has no effect of the Sales\n",
    "Revenue when a linear model is used (use α = 0.05). State the null and alternative\n",
    "hypotheses. Draw the appropriate test conclusions.\n"
   ]
  },
  {
   "cell_type": "markdown",
   "id": "c595e49951ffc249",
   "metadata": {
    "collapsed": false,
    "jupyter": {
     "outputs_hidden": false
    }
   },
   "source": [
    "for β1:\n",
    "H0 : β1 = 0 \n",
    "H1 : β1 ≠= 0\n",
    "Test statistic:\n",
    "$\n",
    "t = \\frac{\\hat{\\beta}_1 - \\beta_1}{S / S_{xx}^{1/2}} \\sim t_{n-2} \\text{ if } H_0 \\text{ is true }\n",
    "$\n",
    "Decision rule: reject $ H_0 $ if $ |t| > t_{\\alpha/2, n-2} $."
   ]
  },
  {
   "cell_type": "code",
   "execution_count": 39,
   "id": "d9412285ddac1190",
   "metadata": {
    "ExecuteTime": {
     "end_time": "2024-09-23T02:42:47.585373Z",
     "start_time": "2024-09-23T02:42:47.571858Z"
    },
    "collapsed": false,
    "jupyter": {
     "outputs_hidden": false
    }
   },
   "outputs": [
    {
     "name": "stdout",
     "output_type": "stream",
     "text": [
      "t-value: 0.8366600265340755\n"
     ]
    }
   ],
   "source": [
    "t_value = (slope - 0) / (np.sqrt(Sxy / Sxx))#t(0.05, 4)=2.7764\n",
    "print('t-value:', t_value)\n"
   ]
  },
  {
   "cell_type": "markdown",
   "id": "f4b358b9a4ca0c1b",
   "metadata": {
    "collapsed": false,
    "jupyter": {
     "outputs_hidden": false
    }
   },
   "source": [
    "because $t_{\\alpha/2, n-2} = 2.7764$,t-value: 0.8366600265340755,$ |t| < t_{\\alpha/2, n-2} $ we  not reject $ H_0 $ "
   ]
  },
  {
   "cell_type": "markdown",
   "id": "96d968de238e0dcd",
   "metadata": {
    "collapsed": false,
    "jupyter": {
     "outputs_hidden": false
    }
   },
   "source": [
    "(e) Find a 95% confidence interval for β1 (slope of the linear regression model). Interpret\n",
    "your results."
   ]
  },
  {
   "cell_type": "markdown",
   "id": "bcf32942837a3054",
   "metadata": {
    "collapsed": false,
    "jupyter": {
     "outputs_hidden": false
    }
   },
   "source": [
    "the 95% confidence interval for β1 is:\n",
    "\n",
    "$\n",
    "\\hat{\\beta}_1 \\pm t_{\\alpha/2, n-2} S / S_{xx}^{1/2}\n",
    "$\n",
    "\n",
    "where $t_{\\alpha/2, n-2}$ is the t-value corresponding to the 95% confidence level.\n",
    "\n",
    "$\\hat{\\beta}_1 = 0.7$\n",
    "\n",
    "The estimator of $ \\sigma^2 $ is given by:\n",
    "\n",
    "$\n",
    "S^2 = MSE = \\frac{SSE}{n - 2} = \\frac{\\sum_{i=1}^{n} (y_i - \\hat{y}_i)^2}{n - 2}\n",
    "$\n",
    "\n",
    "Here, $ S^2 $ is an unbiased estimator of $ \\sigma^2 $.\n"
   ]
  },
  {
   "cell_type": "code",
   "execution_count": 40,
   "id": "699ac3aa22ebf46d",
   "metadata": {
    "ExecuteTime": {
     "end_time": "2024-09-23T02:42:47.601371Z",
     "start_time": "2024-09-23T02:42:47.587374Z"
    },
    "collapsed": false,
    "jupyter": {
     "outputs_hidden": false
    }
   },
   "outputs": [
    {
     "name": "stdout",
     "output_type": "stream",
     "text": [
      "95% confidence interval for β1: (0.5560311737323358, 0.8439688262676641)\n"
     ]
    }
   ],
   "source": [
    "y_ave= np.average(y)/len(y)\n",
    "y_eva=[intercept + slope*x[i] for i in range(len(x))]\n",
    "S=sum((y[i]-y_eva[i])**2 for i in range(len(x)))/(len(x)-2)\n",
    "CI=(slope - 2.7764 *S/ np.sqrt(Sxx), slope + 2.7764*S / np.sqrt(Sxx))\n",
    "print('95% confidence interval for β1:', CI) "
   ]
  },
  {
   "cell_type": "markdown",
   "id": "7601d653d7abb49e",
   "metadata": {
    "collapsed": false,
    "jupyter": {
     "outputs_hidden": false
    }
   },
   "source": []
  },
  {
   "cell_type": "markdown",
   "id": "28763a594ae04525",
   "metadata": {
    "collapsed": false,
    "jupyter": {
     "outputs_hidden": false
    }
   },
   "source": [
    "because $β1=0.7 \\sim  (0.5560311737323358, 0.8439688262676641)$ so we can say that the effect of advertising expenditure on sales revenue is significant at 95% confidence level."
   ]
  },
  {
   "cell_type": "markdown",
   "id": "fb09267b7a596f02",
   "metadata": {
    "collapsed": false,
    "jupyter": {
     "outputs_hidden": false
    }
   },
   "source": [
    "(f) Find the coefficient of determination for the linear regression model. Interpret your\n",
    "result."
   ]
  },
  {
   "cell_type": "markdown",
   "id": "e9baeeb9de2f80df",
   "metadata": {
    "collapsed": false,
    "jupyter": {
     "outputs_hidden": false
    }
   },
   "source": [
    "The coefficient of determination, or $ R^2 $, is defined as\n",
    "$\n",
    "R^2 = \\frac{SSR}{SST} = 1 - \\frac{SSE}{SST}\n",
    "$\n",
    "$\n",
    "SST = \\sum_{i=1}^{n} (y_i - \\bar{y})^2 = \\sum_{i=1}^{n} (y_i - \\hat{y}_i)^2 + \\sum_{i=1}^{n} (\\hat{y}_i - \\bar{y})^2 = SSE + SSR\n",
    "$"
   ]
  },
  {
   "cell_type": "code",
   "execution_count": 41,
   "id": "9598a746332aea50",
   "metadata": {
    "ExecuteTime": {
     "end_time": "2024-09-23T02:42:47.617374Z",
     "start_time": "2024-09-23T02:42:47.602375Z"
    },
    "collapsed": false,
    "jupyter": {
     "outputs_hidden": false
    }
   },
   "outputs": [
    {
     "name": "stdout",
     "output_type": "stream",
     "text": [
      "R2: 0.9414893617021277\n"
     ]
    }
   ],
   "source": [
    "\n",
    "SSE=sum([(y[i]-y_eva[i])**2 for i in range(len(x))])\n",
    "SSR=sum([(y_eva[i]-y_ave)**2 for i in range(len(x))])\n",
    "SST=SSE+SSR\n",
    "R2=1-SSE/SST\n",
    "print('R2:', R2)"
   ]
  },
  {
   "cell_type": "markdown",
   "id": "be67288f41555c65",
   "metadata": {
    "collapsed": false,
    "jupyter": {
     "outputs_hidden": false
    }
   },
   "source": []
  },
  {
   "cell_type": "markdown",
   "id": "d8263d327bd65003",
   "metadata": {
    "collapsed": false,
    "jupyter": {
     "outputs_hidden": false
    }
   },
   "source": [
    "because $R^2=0.9414$ so we can say that the linear regression model explains 94.14% of the variation in the data."
   ]
  },
  {
   "cell_type": "markdown",
   "id": "f7d05f2a812c1c0c",
   "metadata": {
    "collapsed": false,
    "jupyter": {
     "outputs_hidden": false
    }
   },
   "source": [
    "(g) Find a prediction for the mean Sales Revenue when 4 hundreds dollars are spent on\n",
    "advertising and its 95% interval. What is the 95% interval for the Sales Revenue?"
   ]
  },
  {
   "cell_type": "markdown",
   "id": "89c3b1d74c6a0a81",
   "metadata": {
    "collapsed": false,
    "jupyter": {
     "outputs_hidden": false
    }
   },
   "source": [
    "\n",
    "The two-sided $ 100(1 - \\alpha)\\% $ confidence interval for $ \\hat{y}_h $ is given by:\n",
    "\n",
    "$\n",
    "\\hat{y}_h - t_{\\alpha/2,n-2} S \\sqrt{1 + \\frac{1}{n} + \\frac{(x_h - \\bar{x})^2}{\\sum_{i}(x_i - \\bar{x})^2}}, \\quad \\hat{y}_h + t_{\\alpha/2,n-2} S \\sqrt{1 + \\frac{1}{n} + \\frac{(x_h - \\bar{x})^2}{\\sum_{i}(x_i - \\bar{x})^2}}\n",
    "$\n"
   ]
  },
  {
   "cell_type": "code",
   "execution_count": 42,
   "id": "83c231297b738837",
   "metadata": {
    "ExecuteTime": {
     "end_time": "2024-09-23T02:42:47.633374Z",
     "start_time": "2024-09-23T02:42:47.619375Z"
    },
    "collapsed": false,
    "jupyter": {
     "outputs_hidden": false
    }
   },
   "outputs": [
    {
     "name": "stdout",
     "output_type": "stream",
     "text": [
      "y_head: 2.6999999999999997\n",
      "average sales revenue: (1.5392862149100763, 3.8607137850899234)\n"
     ]
    }
   ],
   "source": [
    "y_head=intercept + slope*4\n",
    "print('y_head:', y_head)\n",
    "t_alpha=2.7764\n",
    "ans=(y_head - t_alpha * S * np.sqrt(1 + 1/len(x) + (4-np.average(x))**2/sum_of_squares(x-np.average(x))), y_head + t_alpha * S * np.sqrt(1 + 1/len(x) + (4-np.average(x))**2/sum_of_squares(x-np.average(x))))\n",
    "print('average sales revenue:', ans)"
   ]
  },
  {
   "cell_type": "markdown",
   "id": "4b1d59207fc72244",
   "metadata": {
    "collapsed": false,
    "jupyter": {
     "outputs_hidden": false
    }
   },
   "source": [
    "2. (20 marks)\n",
    "(a) Define a simple linear regression model and derive MLE (maximum likelihood estimation) for all the unknown parameters\n"
   ]
  },
  {
   "cell_type": "markdown",
   "id": "8b84289e28ef53bc",
   "metadata": {
    "collapsed": false,
    "jupyter": {
     "outputs_hidden": false
    }
   },
   "source": [
    "\n",
    "(a) Assume $y_i = \\beta_0 + \\beta_1 x_i + \\varepsilon_i$, where $\\varepsilon_i \\sim N(0, \\sigma^2), i = 1, 2, \\ldots, n$ and error terms are mutually independent. $y_i \\sim N(\\beta_0 + \\beta_1 x_i, \\sigma^2)$, where $\\beta_0, \\beta_1$ and $\\sigma^2$ are unknown.\n",
    "\n",
    "The likelihood function is\n",
    "\n",
    "$\n",
    "L(\\beta_0, \\beta_1, \\sigma^2) = \\frac{1}{(\\sqrt{2\\pi\\sigma^2})^n} \\exp \\left( -\\frac{\\sum_{i=1}^n (y_i - \\beta_0 - \\beta_1 x_i)^2}{2\\sigma^2} \\right)\n",
    "$\n",
    "\n",
    "and the  log-likelihood function is \n",
    "\n",
    "$\n",
    "\\begin{align*}\n",
    "\\ell(\\beta_0, \\beta_1, \\sigma^2) &= -\\frac{1}{2\\sigma^2} \\sum_{i=1}^n (y_i - \\beta_0 - \\beta_1 x_i)^2 \\\\\n",
    "&\\quad - \\frac{n}{2}\\ln(2\\pi\\sigma^2)\n",
    "\\end{align*}\n",
    "$\n",
    "\n",
    "where\n",
    "\n",
    "$\n",
    "\\begin{align*}\n",
    "\\frac{\\partial \\ell(\\beta_0, \\beta_1, \\sigma^2)}{\\partial \\beta_0} &= \\sum_{i=1}^n \\frac{y_i - \\beta_0 - \\beta_1 x_i}{\\sigma^2}, \\\\\n",
    "\\frac{\\partial \\ell(\\beta_0, \\beta_1, \\sigma^2)}{\\partial \\beta_1} &= \\sum_{i=1}^n \\frac{(y_i - \\beta_0 - \\beta_1 x_i)x_i}{\\sigma^2}, \\\\\n",
    "\\frac{\\partial \\ell(\\beta_0, \\beta_1, \\sigma^2)}{\\partial \\sigma^2} &= \\frac{1}{2\\sigma^4} \\sum_{i=1}^n (y_i - \\beta_0 - \\beta_1 x_i)^2 - \\frac{n}{2\\sigma^2}\n",
    "\\end{align*}\n",
    "$\n",
    "\n",
    "Let\n",
    "\n",
    "$\n",
    "\\frac{\\partial \\ell(\\beta_0, \\beta_1, \\sigma^2)}{\\partial \\beta_0} = 0\n",
    "$\n",
    "\n",
    "and get\n",
    "\n",
    "$\n",
    "\\beta_0 = \\overline{y} - \\beta_1 \\overline{x}\n",
    "$\n",
    "\n",
    "so that\n",
    "\n",
    "$\n",
    "\\frac{\\partial \\ell(\\beta_0, \\beta_1, \\sigma^2)}{\\partial \\beta_1} = \\sum_{i=1}^n \\frac{x_i(y_i - \\overline{y}) + \\beta_1 x_i (\\overline{x} - x_i)}{\\sigma^2}\n",
    "$\n",
    "\n",
    "Let\n",
    "\n",
    "$\n",
    "\\frac{\\partial \\ell(\\beta_0, \\beta_1, \\sigma^2)}{\\partial \\beta_1} = 0\n",
    "$\n",
    "\n",
    "and  the MLE of $\\beta_1$ is \n",
    "\n",
    "$\n",
    "\\hat{\\beta}_1 = \\frac{\\sum_{i=1}^n x_i (y_i - \\overline{y})}{\\sum_{i=1}^n x_i (x_i - \\overline{x})} = \\frac{\\sum_{i=1}^n (x_i - \\overline{x})(y_i - \\overline{y})}{\\sum_{i=1}^n (x_i - \\overline{x})^2}\n",
    "$\n",
    "\n",
    " the MLE of $\\beta_0$ is \n",
    "\n",
    "$\n",
    "\\hat{\\beta}_0 = \\overline{y} - \\hat{\\beta}_1 \\overline{x} = \\hat{y} - \\frac{\\sum_{i=1}^n x_i (x_i - y)}{\\sum_{i=1}^n x_i (x_i - \\overline{x})}\n",
    "$\n",
    "\n",
    "Let \n",
    "\n",
    "$\n",
    "\\frac{\\partial \\ell(\\beta_0, \\beta_1, \\sigma^2)}{\\partial \\sigma^2} = 0\n",
    "$\n",
    "\n",
    "and get the MLE of $\\sigma^2$ is \n",
    "\n",
    "$\n",
    "\\hat{\\sigma}^2 = \\frac{\\sum_{i=1}^n (y_i - \\hat{y}_i)^2}{n}\n",
    "$\n",
    "\n",
    "where \n",
    "\n",
    "$\n",
    "\\hat{y}_i = \\hat{\\beta}_0 + \\hat{\\beta}_1 x_i\n",
    "$\n",
    "\n"
   ]
  },
  {
   "cell_type": "markdown",
   "id": "dc76f4803d67934c",
   "metadata": {
    "collapsed": false,
    "jupyter": {
     "outputs_hidden": false
    }
   },
   "source": [
    "(b) Comments on the difference between MLE and LSE (least square estimation)\n",
    "\n",
    "\n"
   ]
  },
  {
   "cell_type": "markdown",
   "id": "2c50c489f0fd10d2",
   "metadata": {
    "collapsed": false,
    "jupyter": {
     "outputs_hidden": false
    }
   },
   "source": [
    "\n",
    "The main difference between Maximum Likelihood Estimation (MLE) and Least Squares Estimation (LSE) is that MLE estimates parameters by maximizing the likelihood function to make the observed data most probable, whereas LSE estimates parameters by minimizing the sum of squared differences between observed and predicted values, typically used in linear regression; additionally, MLE is generally sensitive to model assumptions, while LSE can perform poorly in the presence of outliers."
   ]
  },
  {
   "cell_type": "code",
   "execution_count": 42,
   "id": "d44342a586ba7c17",
   "metadata": {
    "ExecuteTime": {
     "end_time": "2024-09-23T02:42:47.649374Z",
     "start_time": "2024-09-23T02:42:47.634372Z"
    },
    "collapsed": false,
    "jupyter": {
     "outputs_hidden": false
    }
   },
   "outputs": [],
   "source": []
  }
 ],
 "metadata": {
  "kernelspec": {
   "display_name": "Python 3 (ipykernel)",
   "language": "python",
   "name": "python3"
  },
  "language_info": {
   "codemirror_mode": {
    "name": "ipython",
    "version": 3
   },
   "file_extension": ".py",
   "mimetype": "text/x-python",
   "name": "python",
   "nbconvert_exporter": "python",
   "pygments_lexer": "ipython3",
   "version": "3.9.13"
  }
 },
 "nbformat": 4,
 "nbformat_minor": 5
}
